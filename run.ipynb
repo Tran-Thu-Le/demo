{
  "nbformat": 4,
  "nbformat_minor": 0,
  "metadata": {
    "kernelspec": {
      "name": "python3",
      "display_name": "Python 3",
      "language": "python"
    },
    "language_info": {
      "name": "python",
      "version": "3.6.11",
      "mimetype": "text/x-python",
      "codemirror_mode": {
        "name": "ipython",
        "version": 3
      },
      "pygments_lexer": "ipython3",
      "nbconvert_exporter": "python",
      "file_extension": ".py"
    },
    "colab": {
      "name": "run.ipynb",
      "provenance": [],
      "collapsed_sections": [
        "tmJ7Ok407FiL",
        "muip2f6h7FiP",
        "6H8I66SJ7FiR",
        "zDcj-hVD7FiV",
        "daFy7E337FiX",
        "uZV8_-ny7FiY",
        "kSjE5heg7FiZ",
        "E8ei5n4s7Fia"
      ],
      "include_colab_link": true
    }
  },
  "cells": [
    {
      "cell_type": "markdown",
      "metadata": {
        "id": "view-in-github",
        "colab_type": "text"
      },
      "source": [
        "<a href=\"https://colab.research.google.com/github/Tran-Thu-Le/demo/blob/main/run.ipynb\" target=\"_parent\"><img src=\"https://colab.research.google.com/assets/colab-badge.svg\" alt=\"Open In Colab\"/></a>"
      ]
    },
    {
      "cell_type": "code",
      "metadata": {
        "colab": {
          "base_uri": "https://localhost:8080/"
        },
        "id": "Jkk6iApqt2HA",
        "outputId": "1c1d0b65-51c2-4c98-ecbc-931e3bc387f9"
      },
      "source": [
        "!git clone https://github.com/Tran-Thu-Le/demo\n",
        "!pwd\n",
        "%run 'demo/exam2.py'"
      ],
      "execution_count": 1,
      "outputs": [
        {
          "output_type": "stream",
          "text": [
            "Cloning into 'demo'...\n",
            "remote: Enumerating objects: 30, done.\u001b[K\n",
            "remote: Counting objects: 100% (30/30), done.\u001b[K\n",
            "remote: Compressing objects: 100% (27/27), done.\u001b[K\n",
            "remote: Total 30 (delta 9), reused 0 (delta 0), pack-reused 0\u001b[K\n",
            "Unpacking objects: 100% (30/30), done.\n",
            "/content\n",
            "Demo: Exam1 was run successfully\n",
            "torch, numpy, mathplotlib have been imported successfully\n",
            "Demo: exam2 was run successfully\n"
          ],
          "name": "stdout"
        }
      ]
    }
  ]
}