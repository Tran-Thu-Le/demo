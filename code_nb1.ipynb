{
  "nbformat": 4,
  "nbformat_minor": 0,
  "metadata": {
    "colab": {
      "name": "Colaboratory chào mừng bạn!",
      "provenance": [],
      "collapsed_sections": [],
      "toc_visible": true,
      "include_colab_link": true
    },
    "kernelspec": {
      "display_name": "Python 3",
      "name": "python3"
    }
  },
  "cells": [
    {
      "cell_type": "markdown",
      "metadata": {
        "id": "view-in-github",
        "colab_type": "text"
      },
      "source": [
        "<a href=\"https://colab.research.google.com/github/Tran-Thu-Le/demo/blob/main/code_nb1.ipynb\" target=\"_parent\"><img src=\"https://colab.research.google.com/assets/colab-badge.svg\" alt=\"Open In Colab\"/></a>"
      ]
    },
    {
      "cell_type": "code",
      "metadata": {
        "id": "eaEJ1w_Ugkr5"
      },
      "source": [
        "class operators(object):\n",
        "    def sum(self, a, b):\n",
        "        return a+b\n",
        "    def prod(self, a, b):\n",
        "        return a*b"
      ],
      "execution_count": 1,
      "outputs": []
    },
    {
      "cell_type": "code",
      "metadata": {
        "id": "_hRuem46g7G6"
      },
      "source": [
        "import numpy as np\n",
        "class power(object):\n",
        "    def exp(self, b):\n",
        "        return np.exp(b)"
      ],
      "execution_count": 2,
      "outputs": []
    },
    {
      "cell_type": "markdown",
      "metadata": {
        "id": "eLxPs446hsvW"
      },
      "source": [
        "adding something here as a text"
      ]
    }
  ]
}